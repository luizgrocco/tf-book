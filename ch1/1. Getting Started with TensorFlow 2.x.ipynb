{
 "cells": [
  {
   "cell_type": "markdown",
   "metadata": {},
   "source": [
    "# Getting Started with TensorFlow 2.x"
   ]
  },
  {
   "cell_type": "code",
   "execution_count": 1,
   "metadata": {},
   "outputs": [],
   "source": [
    "import tensorflow as tf"
   ]
  },
  {
   "cell_type": "code",
   "execution_count": 3,
   "metadata": {},
   "outputs": [
    {
     "name": "stdout",
     "output_type": "stream",
     "text": [
      "2.2.0\n"
     ]
    }
   ],
   "source": [
    "print(tf.__version__)"
   ]
  },
  {
   "cell_type": "markdown",
   "metadata": {},
   "source": [
    "## Recipe 1: General flow of TensorFlow algorithms"
   ]
  },
  {
   "cell_type": "code",
   "execution_count": 3,
   "metadata": {},
   "outputs": [],
   "source": [
    "import tensorflow as tf\n",
    "import tensorflow_datasets as tfds\n",
    "import numpy as np\n",
    "\n",
    "# Set algorithm parameters (hyperparameters)\n",
    "epochs = 1200\n",
    "batch_size = 32\n",
    "input_size = 4\n",
    "output_size = 3\n",
    "learning_rate = 0.001\n",
    "\n",
    "# Initialize variables\n",
    "weights = tf.Variable(tf.random.normal(shape=(input_size, output_size), \n",
    "                                       dtype=tf.float32))\n",
    "\n",
    "biases  = tf.Variable(tf.random.normal(shape=(output_size,), \n",
    "                                       dtype=tf.float32))\n",
    "\n",
    "optimizer = tf.optimizers.SGD(learning_rate)\n",
    "\n",
    "# loading data\n",
    "data = tfds.load(\"iris\", split=\"train\")\n",
    "\n",
    "# Training loop\n",
    "for repeat in range(epochs):\n",
    "    for batch in data.batch(batch_size, drop_remainder=True):\n",
    "        # Transform and normalize data\n",
    "        labels = tf.one_hot(batch['label'], 3)\n",
    "        X = batch['features']\n",
    "        X = (X - np.mean(X)) / np.std(X)\n",
    "\n",
    "        with tf.GradientTape() as tape:\n",
    "            # Define the model structure\n",
    "            logits = tf.add(tf.matmul(X, weights), biases)\n",
    "            # Declare the loss function\n",
    "            loss = tf.reduce_mean(\n",
    "                tf.nn.softmax_cross_entropy_with_logits(labels, logits))\n",
    "\n",
    "        gradients = tape.gradient(loss, [weights, biases])\n",
    "        optimizer.apply_gradients(zip(gradients, [weights, biases]))"
   ]
  },
  {
   "cell_type": "code",
   "execution_count": 4,
   "metadata": {},
   "outputs": [
    {
     "name": "stdout",
     "output_type": "stream",
     "text": [
      "final loss is: 0.524\n",
      "real label: 0 fitted: 0\n",
      "real label: 1 fitted: 2\n",
      "real label: 1 fitted: 1\n",
      "real label: 2 fitted: 2\n",
      "real label: 2 fitted: 1\n",
      "real label: 2 fitted: 2\n",
      "real label: 0 fitted: 0\n",
      "real label: 2 fitted: 1\n",
      "real label: 1 fitted: 2\n",
      "real label: 2 fitted: 1\n",
      "real label: 1 fitted: 1\n",
      "real label: 0 fitted: 0\n",
      "real label: 1 fitted: 2\n",
      "real label: 0 fitted: 0\n",
      "real label: 2 fitted: 2\n",
      "real label: 2 fitted: 2\n",
      "real label: 0 fitted: 0\n",
      "real label: 2 fitted: 2\n",
      "real label: 0 fitted: 0\n",
      "real label: 1 fitted: 2\n",
      "real label: 2 fitted: 2\n",
      "real label: 0 fitted: 0\n",
      "real label: 2 fitted: 2\n",
      "real label: 1 fitted: 2\n",
      "real label: 0 fitted: 0\n",
      "real label: 0 fitted: 0\n",
      "real label: 2 fitted: 2\n",
      "real label: 0 fitted: 0\n",
      "real label: 1 fitted: 2\n",
      "real label: 2 fitted: 2\n",
      "real label: 0 fitted: 0\n",
      "real label: 2 fitted: 2\n"
     ]
    }
   ],
   "source": [
    "# Evaluate the training fit\n",
    "print(f\"final loss is: {loss.numpy():.3f}\")\n",
    "preds = tf.math.argmax(tf.add(tf.matmul(X, weights), biases), axis=1)\n",
    "ground_truth = tf.math.argmax(labels, axis=1)\n",
    "\n",
    "for y_true, y_pred in zip(ground_truth.numpy(), preds.numpy()):\n",
    "    print(f\"real label: {y_true} fitted: {y_pred}\")"
   ]
  },
  {
   "cell_type": "markdown",
   "metadata": {},
   "source": [
    "## Recipe 2: Declaring variables and tensors"
   ]
  },
  {
   "cell_type": "code",
   "execution_count": 5,
   "metadata": {},
   "outputs": [
    {
     "name": "stdout",
     "output_type": "stream",
     "text": [
      "tf.Tensor(\n",
      "[[0. 0. 0.]\n",
      " [0. 0. 0.]\n",
      " [0. 0. 0.]], shape=(3, 3), dtype=float32)\n"
     ]
    }
   ],
   "source": [
    "# Creating a zero-filled tensor\n",
    "row_dim, col_dim = 3, 3\n",
    "zero_tsr = tf.zeros(shape=[row_dim, col_dim], dtype=tf.float32)\n",
    "print(zero_tsr)"
   ]
  },
  {
   "cell_type": "code",
   "execution_count": 6,
   "metadata": {},
   "outputs": [
    {
     "name": "stdout",
     "output_type": "stream",
     "text": [
      "tf.Tensor(\n",
      "[[1. 1. 1.]\n",
      " [1. 1. 1.]\n",
      " [1. 1. 1.]], shape=(3, 3), dtype=float32)\n"
     ]
    }
   ],
   "source": [
    "# Creating a one-filled tensor\n",
    "ones_tsr = tf.ones([row_dim, col_dim])\n",
    "print(ones_tsr)"
   ]
  },
  {
   "cell_type": "code",
   "execution_count": 7,
   "metadata": {},
   "outputs": [
    {
     "name": "stdout",
     "output_type": "stream",
     "text": [
      "tf.Tensor(\n",
      "[[42 42 42]\n",
      " [42 42 42]\n",
      " [42 42 42]], shape=(3, 3), dtype=int32)\n"
     ]
    }
   ],
   "source": [
    "# Creating a constant-filled tensor\n",
    "filled_tsr = tf.fill([row_dim, col_dim], 42)\n",
    "print(filled_tsr)"
   ]
  },
  {
   "cell_type": "code",
   "execution_count": 8,
   "metadata": {},
   "outputs": [
    {
     "name": "stdout",
     "output_type": "stream",
     "text": [
      "tf.Tensor([1 2 3], shape=(3,), dtype=int32)\n"
     ]
    }
   ],
   "source": [
    "# Creating a tensor out of an existing constant\n",
    "constant_tsr = tf.constant([1,2,3])\n",
    "print(constant_tsr)"
   ]
  },
  {
   "cell_type": "code",
   "execution_count": 9,
   "metadata": {},
   "outputs": [
    {
     "name": "stdout",
     "output_type": "stream",
     "text": [
      "tf.Tensor([0 0 0], shape=(3,), dtype=int32) tf.Tensor([1 1 1], shape=(3,), dtype=int32)\n"
     ]
    }
   ],
   "source": [
    "# Initializing TF variables based on the shape of other tensors\n",
    "zeros_similar = tf.zeros_like(constant_tsr) \n",
    "ones_similar = tf.ones_like(constant_tsr)\n",
    "print(zeros_similar, ones_similar)"
   ]
  },
  {
   "cell_type": "code",
   "execution_count": 10,
   "metadata": {},
   "outputs": [
    {
     "name": "stdout",
     "output_type": "stream",
     "text": [
      "tf.Tensor([0.  0.5 1. ], shape=(3,), dtype=float32)\n"
     ]
    }
   ],
   "source": [
    "# Specifying tensors that contain float defined intervals\n",
    "linear_tsr = tf.linspace(start=0.0, stop=1.0, num=3)\n",
    "print(linear_tsr)"
   ]
  },
  {
   "cell_type": "code",
   "execution_count": 11,
   "metadata": {},
   "outputs": [
    {
     "name": "stdout",
     "output_type": "stream",
     "text": [
      "tf.Tensor([ 6  9 12], shape=(3,), dtype=int32)\n"
     ]
    }
   ],
   "source": [
    "# Specifying tensors that contain integer defined intervals\n",
    "integer_seq_tsr = tf.range(start=6, limit=15, delta=3)\n",
    "print(integer_seq_tsr)"
   ]
  },
  {
   "cell_type": "code",
   "execution_count": 12,
   "metadata": {},
   "outputs": [
    {
     "name": "stdout",
     "output_type": "stream",
     "text": [
      "tf.Tensor(\n",
      "[[0.3029195  0.96886826 0.97948277]\n",
      " [0.3381468  0.86321473 0.774709  ]\n",
      " [0.93786395 0.3637805  0.8559475 ]], shape=(3, 3), dtype=float32)\n"
     ]
    }
   ],
   "source": [
    "# Generating random numbers are from a uniform distribution\n",
    "randunif_tsr = tf.random.uniform([row_dim, col_dim], minval=0, maxval=1)\n",
    "print(randunif_tsr)"
   ]
  },
  {
   "cell_type": "code",
   "execution_count": 13,
   "metadata": {},
   "outputs": [
    {
     "name": "stdout",
     "output_type": "stream",
     "text": [
      "tf.Tensor(\n",
      "[[-1.3417813   1.3158306   0.7407494 ]\n",
      " [-1.1705043   0.5001199   0.4581385 ]\n",
      " [ 1.4593191  -0.18367514  0.10401374]], shape=(3, 3), dtype=float32)\n"
     ]
    }
   ],
   "source": [
    "# Getting a tensor with random draws from a normal distribution\n",
    "randnorm_tsr = tf.random.normal([row_dim, col_dim], mean=0.0, stddev=1.0)\n",
    "print(randnorm_tsr)"
   ]
  },
  {
   "cell_type": "code",
   "execution_count": 14,
   "metadata": {},
   "outputs": [
    {
     "name": "stdout",
     "output_type": "stream",
     "text": [
      "tf.Tensor(\n",
      "[[ 0.9312449   1.1421022  -0.32311472]\n",
      " [ 0.30842438  0.47078842 -0.63310415]\n",
      " [-1.7518669  -0.7230395  -0.06378557]], shape=(3, 3), dtype=float32)\n"
     ]
    }
   ],
   "source": [
    "# Generating normal random values that are assured within certain bounds\n",
    "runcnorm_tsr = tf.random.truncated_normal([row_dim, col_dim], mean=0.0, stddev=1.0)\n",
    "print(runcnorm_tsr)"
   ]
  },
  {
   "cell_type": "code",
   "execution_count": 15,
   "metadata": {},
   "outputs": [
    {
     "name": "stdout",
     "output_type": "stream",
     "text": [
      "tf.Tensor([0 5 8 2 9 4 3 7 6 1], shape=(10,), dtype=int32)\n"
     ]
    }
   ],
   "source": [
    "# Randomizing entries of arrays\n",
    "input_tensor = tf.range(start=0, limit=10, delta=1)\n",
    "shuffled_output = tf.random.shuffle(input_tensor)\n",
    "print(shuffled_output)"
   ]
  },
  {
   "cell_type": "code",
   "execution_count": 16,
   "metadata": {},
   "outputs": [
    {
     "data": {
      "image/png": "[encoded data removed]",
      "text/plain": [
       "<Figure size 432x288 with 1 Axes>"
      ]
     },
     "metadata": {
      "needs_background": "light"
     },
     "output_type": "display_data"
    },
    {
     "data": {
      "image/png": "[encoded data removed]",
      "text/plain": [
       "<Figure size 432x288 with 1 Axes>"
      ]
     },
     "metadata": {
      "needs_background": "light"
     },
     "output_type": "display_data"
    }
   ],
   "source": [
    "# Randomly cropping images of size (height, width, 3)\n",
    "height, width = (64, 64)\n",
    "my_image = tf.random.uniform([height, width, 3], minval=0,\n",
    "                             maxval=255, dtype=tf.int32)\n",
    "cropped_image = tf.image.random_crop(my_image, \n",
    "                                     [height//2, width//2, 3])\n",
    "\n",
    "import matplotlib.pyplot as plt\n",
    "_ = plt.imshow(my_image)\n",
    "plt.show()\n",
    "_ = plt.imshow(cropped_image)\n",
    "plt.show()"
   ]
  },
  {
   "cell_type": "code",
   "execution_count": 17,
   "metadata": {},
   "outputs": [
    {
     "name": "stdout",
     "output_type": "stream",
     "text": [
      "<tf.Variable 'Variable:0' shape=(3, 3) dtype=float32, numpy=\n",
      "array([[0., 0., 0.],\n",
      "       [0., 0., 0.],\n",
      "       [0., 0., 0.]], dtype=float32)>\n"
     ]
    }
   ],
   "source": [
    "# Wrapping a tensor into a corresponding variables function\n",
    "my_var = tf.Variable(tf.zeros([row_dim, col_dim])) \n",
    "print(my_var)"
   ]
  },
  {
   "cell_type": "markdown",
   "metadata": {},
   "source": [
    "## Recipe 3: Leveraging eager execution"
   ]
  },
  {
   "cell_type": "code",
   "execution_count": 18,
   "metadata": {},
   "outputs": [
    {
     "name": "stdout",
     "output_type": "stream",
     "text": [
      "Is eager execution on? True\n"
     ]
    }
   ],
   "source": [
    "print(\"Is eager execution on?\", tf.executing_eagerly())"
   ]
  },
  {
   "cell_type": "code",
   "execution_count": 19,
   "metadata": {},
   "outputs": [
    {
     "name": "stdout",
     "output_type": "stream",
     "text": [
      "the result is [[4.]]\n"
     ]
    }
   ],
   "source": [
    "x = [[2.]]\n",
    "m = tf.matmul(x, x)\n",
    "print(\"the result is {}\".format(m))"
   ]
  },
  {
   "cell_type": "markdown",
   "metadata": {},
   "source": [
    "## Recipe 4: Working with matrices"
   ]
  },
  {
   "cell_type": "code",
   "execution_count": 20,
   "metadata": {},
   "outputs": [
    {
     "name": "stdout",
     "output_type": "stream",
     "text": [
      "tf.Tensor(\n",
      "[[1. 0. 0.]\n",
      " [0. 1. 0.]\n",
      " [0. 0. 1.]], shape=(3, 3), dtype=float32)\n"
     ]
    }
   ],
   "source": [
    "# Creating an identity matrix\n",
    "identity_matrix = tf.linalg.diag([1.0, 1.0, 1.0])\n",
    "print(identity_matrix)"
   ]
  },
  {
   "cell_type": "code",
   "execution_count": 21,
   "metadata": {},
   "outputs": [
    {
     "name": "stdout",
     "output_type": "stream",
     "text": [
      "tf.Tensor(\n",
      "[[-0.73523927 -0.78333473 -0.14383991]\n",
      " [-1.915799    1.2454882   0.7744702 ]], shape=(2, 3), dtype=float32)\n"
     ]
    }
   ],
   "source": [
    "# Creating a matrix of random truncated values\n",
    "A = tf.random.truncated_normal([2, 3]) \n",
    "print(A)"
   ]
  },
  {
   "cell_type": "code",
   "execution_count": 22,
   "metadata": {},
   "outputs": [
    {
     "name": "stdout",
     "output_type": "stream",
     "text": [
      "tf.Tensor(\n",
      "[[5. 5. 5.]\n",
      " [5. 5. 5.]], shape=(2, 3), dtype=float32)\n"
     ]
    }
   ],
   "source": [
    "# Creating a constant filled matrix\n",
    "B = tf.fill([2, 3], 5.0) \n",
    "print(B)"
   ]
  },
  {
   "cell_type": "code",
   "execution_count": 23,
   "metadata": {},
   "outputs": [
    {
     "name": "stdout",
     "output_type": "stream",
     "text": [
      "tf.Tensor(\n",
      "[[0.5099019  0.8885846 ]\n",
      " [0.76572347 0.10123503]\n",
      " [0.9105222  0.77758765]], shape=(3, 2), dtype=float32)\n"
     ]
    }
   ],
   "source": [
    "# Creating a matrix of random uniform values\n",
    "C = tf.random.uniform([3,2]) \n",
    "print(C)"
   ]
  },
  {
   "cell_type": "code",
   "execution_count": 25,
   "metadata": {},
   "outputs": [
    {
     "name": "stdout",
     "output_type": "stream",
     "text": [
      "tf.Tensor(\n",
      "[[ 1.  2.  3.]\n",
      " [-3. -7. -1.]\n",
      " [ 0.  5. -2.]], shape=(3, 3), dtype=float32)\n"
     ]
    }
   ],
   "source": [
    "# Converting a Numpy array to a TF matrix\n",
    "D = tf.convert_to_tensor(np.array([[1., 2., 3.],[-3., -7., -1.],[0., 5., -2.]]),\n",
    "                         dtype=tf.float32)\n",
    "print(D)"
   ]
  },
  {
   "cell_type": "code",
   "execution_count": 26,
   "metadata": {},
   "outputs": [
    {
     "name": "stdout",
     "output_type": "stream",
     "text": [
      "tf.Tensor(\n",
      "[[4.264761  4.2166653 4.85616  ]\n",
      " [3.0842009 6.245488  5.7744703]], shape=(2, 3), dtype=float32)\n"
     ]
    }
   ],
   "source": [
    "# Adding matrices\n",
    "print(A+B)"
   ]
  },
  {
   "cell_type": "code",
   "execution_count": 27,
   "metadata": {},
   "outputs": [
    {
     "name": "stdout",
     "output_type": "stream",
     "text": [
      "tf.Tensor(\n",
      "[[0. 0. 0.]\n",
      " [0. 0. 0.]], shape=(2, 3), dtype=float32)\n"
     ]
    }
   ],
   "source": [
    "# Subtracting matrices\n",
    "print(B-B)"
   ]
  },
  {
   "cell_type": "code",
   "execution_count": 28,
   "metadata": {},
   "outputs": [
    {
     "name": "stdout",
     "output_type": "stream",
     "text": [
      "tf.Tensor(\n",
      "[[5. 5. 5.]\n",
      " [5. 5. 5.]], shape=(2, 3), dtype=float32)\n"
     ]
    }
   ],
   "source": [
    "# Multiplying matrices\n",
    "print(tf.matmul(B, identity_matrix))"
   ]
  },
  {
   "cell_type": "code",
   "execution_count": 29,
   "metadata": {},
   "outputs": [
    {
     "name": "stdout",
     "output_type": "stream",
     "text": [
      "tf.Tensor(\n",
      "[[ 1.  0.  0.]\n",
      " [-0. -7. -0.]\n",
      " [ 0.  0. -2.]], shape=(3, 3), dtype=float32)\n"
     ]
    }
   ],
   "source": [
    "# Element-wise multiplication of two matrices\n",
    "print(tf.multiply(D, identity_matrix))"
   ]
  },
  {
   "cell_type": "code",
   "execution_count": 30,
   "metadata": {},
   "outputs": [
    {
     "name": "stdout",
     "output_type": "stream",
     "text": [
      "tf.Tensor(\n",
      "[[0.5099019  0.76572347 0.9105222 ]\n",
      " [0.8885846  0.10123503 0.77758765]], shape=(2, 3), dtype=float32)\n"
     ]
    }
   ],
   "source": [
    "# Transposing a matrix\n",
    "print(tf.transpose(C))"
   ]
  },
  {
   "cell_type": "code",
   "execution_count": 31,
   "metadata": {},
   "outputs": [
    {
     "name": "stdout",
     "output_type": "stream",
     "text": [
      "tf.Tensor(-38.0, shape=(), dtype=float32)\n"
     ]
    }
   ],
   "source": [
    "# Calculating the determinant of a matrix\n",
    "print(tf.linalg.det(D))"
   ]
  },
  {
   "cell_type": "code",
   "execution_count": 32,
   "metadata": {},
   "outputs": [
    {
     "name": "stdout",
     "output_type": "stream",
     "text": [
      "tf.Tensor(\n",
      "[[-0.50000006 -0.5        -0.50000006]\n",
      " [ 0.15789475  0.05263158  0.21052633]\n",
      " [ 0.39473686  0.13157895  0.0263158 ]], shape=(3, 3), dtype=float32)\n"
     ]
    }
   ],
   "source": [
    "# Finding the inverse of a square matrix\n",
    "print(tf.linalg.inv(D))"
   ]
  },
  {
   "cell_type": "code",
   "execution_count": 33,
   "metadata": {},
   "outputs": [
    {
     "name": "stdout",
     "output_type": "stream",
     "text": [
      "tf.Tensor(\n",
      "[[1. 0. 0.]\n",
      " [0. 1. 0.]\n",
      " [0. 0. 1.]], shape=(3, 3), dtype=float32)\n"
     ]
    }
   ],
   "source": [
    "# Operating the Cholesky decomposition of a matrix:\n",
    "print(tf.linalg.cholesky(identity_matrix))"
   ]
  },
  {
   "cell_type": "code",
   "execution_count": 34,
   "metadata": {},
   "outputs": [
    {
     "name": "stdout",
     "output_type": "stream",
     "text": [
      "(<tf.Tensor: shape=(3,), dtype=float32, numpy=array([-10.659076  ,  -0.22750695,   2.886583  ], dtype=float32)>, <tf.Tensor: shape=(3, 3), dtype=float32, numpy=\n",
      "array([[-0.21749546, -0.6325011 , -0.74339646],\n",
      "       [-0.84526515, -0.25879988,  0.46749276],\n",
      "       [ 0.48808062, -0.7300446 ,  0.4783433 ]], dtype=float32)>)\n"
     ]
    }
   ],
   "source": [
    "# Computing eigenvalues and eigenvectors of a matrix:\n",
    "print(tf.linalg.eigh(D))"
   ]
  },
  {
   "cell_type": "markdown",
   "metadata": {},
   "source": [
    "## Recipe 5: Operations in TensorFlow"
   ]
  },
  {
   "cell_type": "code",
   "execution_count": 35,
   "metadata": {},
   "outputs": [
    {
     "name": "stdout",
     "output_type": "stream",
     "text": [
      "0.75\n",
      "tf.Tensor(0.75, shape=(), dtype=float64)\n"
     ]
    }
   ],
   "source": [
    "# Divisions\n",
    "print(tf.math.divide(3, 4)) # divide() returns the same type as the inputs\n",
    "print(tf.math.truediv(3, 4))"
   ]
  },
  {
   "cell_type": "code",
   "execution_count": 36,
   "metadata": {},
   "outputs": [
    {
     "name": "stdout",
     "output_type": "stream",
     "text": [
      "tf.Tensor(0.0, shape=(), dtype=float32)\n"
     ]
    }
   ],
   "source": [
    "# Floor rounded division\n",
    "print(tf.math.floordiv(3.0,4.0))"
   ]
  },
  {
   "cell_type": "code",
   "execution_count": 37,
   "metadata": {},
   "outputs": [
    {
     "name": "stdout",
     "output_type": "stream",
     "text": [
      "tf.Tensor(2.0, shape=(), dtype=float32)\n"
     ]
    }
   ],
   "source": [
    "# Module of a division\n",
    "print(tf.math.mod(22.0, 5.0))"
   ]
  },
  {
   "cell_type": "code",
   "execution_count": 38,
   "metadata": {},
   "outputs": [
    {
     "name": "stdout",
     "output_type": "stream",
     "text": [
      "tf.Tensor([0. 0. 1.], shape=(3,), dtype=float32)\n"
     ]
    }
   ],
   "source": [
    "# Cross product between two tensors \n",
    "print(tf.linalg.cross([1., 0., 0.], [0., 1., 0.]))"
   ]
  },
  {
   "cell_type": "code",
   "execution_count": 39,
   "metadata": {},
   "outputs": [
    {
     "name": "stdout",
     "output_type": "stream",
     "text": [
      "tf.Tensor(1.0000036, shape=(), dtype=float32)\n",
      "tf.Tensor(362, shape=(), dtype=int32)\n"
     ]
    }
   ],
   "source": [
    "# Creating custom functions\n",
    "def pi_tan(x):\n",
    "    return tf.tan(3.1416/x)\n",
    "\n",
    "print(pi_tan(4))\n",
    "\n",
    "def custom_polynomial(value): \n",
    "    return tf.math.subtract(3 * tf.math.square(value), value) + 10\n",
    "\n",
    "print(custom_polynomial(11))"
   ]
  },
  {
   "cell_type": "markdown",
   "metadata": {},
   "source": [
    "## Recipe 6: implementing activation functions"
   ]
  },
  {
   "cell_type": "code",
   "execution_count": 40,
   "metadata": {},
   "outputs": [
    {
     "name": "stdout",
     "output_type": "stream",
     "text": [
      "tf.Tensor([ 0.  3. 10.], shape=(3,), dtype=float32)\n"
     ]
    }
   ],
   "source": [
    "# ReLu\n",
    "print(tf.nn.relu([-3., 3., 10.]))"
   ]
  },
  {
   "cell_type": "code",
   "execution_count": 41,
   "metadata": {},
   "outputs": [
    {
     "name": "stdout",
     "output_type": "stream",
     "text": [
      "tf.Tensor([0. 3. 6.], shape=(3,), dtype=float32)\n"
     ]
    }
   ],
   "source": [
    "# Capped max ReLu\n",
    "print(tf.nn.relu6([-3., 3., 10.]))"
   ]
  },
  {
   "cell_type": "code",
   "execution_count": 42,
   "metadata": {},
   "outputs": [
    {
     "name": "stdout",
     "output_type": "stream",
     "text": [
      "tf.Tensor([0.26894143 0.5        0.7310586 ], shape=(3,), dtype=float32)\n"
     ]
    }
   ],
   "source": [
    "# Sigmoid\n",
    "print(tf.nn.sigmoid([-1., 0., 1.]))"
   ]
  },
  {
   "cell_type": "code",
   "execution_count": 43,
   "metadata": {},
   "outputs": [
    {
     "name": "stdout",
     "output_type": "stream",
     "text": [
      "tf.Tensor([-0.7615942  0.         0.7615942], shape=(3,), dtype=float32)\n"
     ]
    }
   ],
   "source": [
    "# Hyper tangent\n",
    "print(tf.nn.tanh([-1., 0., 1.]))"
   ]
  },
  {
   "cell_type": "code",
   "execution_count": 44,
   "metadata": {},
   "outputs": [
    {
     "name": "stdout",
     "output_type": "stream",
     "text": [
      "tf.Tensor([-0.5  0.  -0.5], shape=(3,), dtype=float32)\n"
     ]
    }
   ],
   "source": [
    "# Softsign\n",
    "print(tf.nn.softsign([-1., 0., -1.]))"
   ]
  },
  {
   "cell_type": "code",
   "execution_count": 45,
   "metadata": {},
   "outputs": [
    {
     "name": "stdout",
     "output_type": "stream",
     "text": [
      "tf.Tensor([0.31326166 0.6931472  0.31326166], shape=(3,), dtype=float32)\n"
     ]
    }
   ],
   "source": [
    "# Softplus\n",
    "print(tf.nn.softplus([-1., 0., -1.]))"
   ]
  },
  {
   "cell_type": "code",
   "execution_count": 46,
   "metadata": {},
   "outputs": [
    {
     "name": "stdout",
     "output_type": "stream",
     "text": [
      "tf.Tensor([-0.63212055  0.         -0.63212055], shape=(3,), dtype=float32)\n"
     ]
    }
   ],
   "source": [
    "# Elu\n",
    "print(tf.nn.elu([-1., 0., -1.])) "
   ]
  },
  {
   "cell_type": "code",
   "execution_count": 47,
   "metadata": {},
   "outputs": [
    {
     "name": "stdout",
     "output_type": "stream",
     "text": [
      "tf.Tensor([-0.26894143  0.          0.7310586 ], shape=(3,), dtype=float32)\n"
     ]
    }
   ],
   "source": [
    "def swish(x):\n",
    "    return x * tf.nn.sigmoid(x)\n",
    "\n",
    "print(swish([-1., 0., 1.]))"
   ]
  },
  {
   "cell_type": "markdown",
   "metadata": {},
   "source": [
    "## Recipe 7: downloading datasets"
   ]
  },
  {
   "cell_type": "markdown",
   "metadata": {},
   "source": [
    "### Iris Dataset"
   ]
  },
  {
   "cell_type": "code",
   "execution_count": 48,
   "metadata": {},
   "outputs": [],
   "source": [
    "import tensorflow_datasets as tfds\n",
    "tfds.disable_progress_bar()\n",
    "\n",
    "iris = tfds.load('iris', split='train')"
   ]
  },
  {
   "cell_type": "markdown",
   "metadata": {},
   "source": [
    "### Birth weight data"
   ]
  },
  {
   "cell_type": "code",
   "execution_count": 49,
   "metadata": {},
   "outputs": [
    {
     "name": "stdout",
     "output_type": "stream",
     "text": [
      "Downloading data from https://raw.githubusercontent.com/PacktPublishing/TensorFlow-2-Machine-Learning-Cookbook-Third-Edition/master/birthweight.dat\n",
      "8192/4554 [=====================================================] - 0s 0us/step\n"
     ]
    }
   ],
   "source": [
    "import tensorflow_datasets as tfds\n",
    "tfds.disable_progress_bar()\n",
    "\n",
    "birthdata_url = 'https://raw.githubusercontent.com/PacktPublishing/TensorFlow-2-Machine-Learning-Cookbook-Third-Edition/master/birthweight.dat' \n",
    "path = tf.keras.utils.get_file(birthdata_url.split(\"/\")[-1], birthdata_url)\n",
    "\n",
    "def map_line(x):\n",
    "    return tf.strings.to_number(tf.strings.split(x))\n",
    "\n",
    "birth_file = (tf.data\n",
    "              .TextLineDataset(path)\n",
    "              .skip(1)     # Skip first header line\n",
    "              .map(map_line)\n",
    "             )"
   ]
  },
  {
   "cell_type": "markdown",
   "metadata": {},
   "source": [
    "### Housing data"
   ]
  },
  {
   "cell_type": "code",
   "execution_count": 50,
   "metadata": {},
   "outputs": [],
   "source": [
    "import tensorflow_datasets as tfds\n",
    "tfds.disable_progress_bar()\n",
    "\n",
    "housing_url = 'http://archive.ics.uci.edu/ml/machine-learning-databases/housing/housing.data'\n",
    "path = tf.keras.utils.get_file(housing_url.split(\"/\")[-1], housing_url)\n",
    "\n",
    "def map_line(x):\n",
    "    return tf.strings.to_number(tf.strings.split(x))\n",
    "\n",
    "housing = (tf.data\n",
    "           .TextLineDataset(path)\n",
    "           .map(map_line)\n",
    "          )"
   ]
  },
  {
   "cell_type": "markdown",
   "metadata": {},
   "source": [
    "### MNIST "
   ]
  },
  {
   "cell_type": "code",
   "execution_count": 51,
   "metadata": {},
   "outputs": [
    {
     "name": "stdout",
     "output_type": "stream",
     "text": [
      "\u001b[1mDownloading and preparing dataset mnist/3.0.1 (download: 11.06 MiB, generated: 21.00 MiB, total: 32.06 MiB) to /home/lm/tensorflow_datasets/mnist/3.0.1...\u001b[0m\n"
     ]
    },
    {
     "name": "stderr",
     "output_type": "stream",
     "text": [
      "WARNING:absl:Dataset mnist is hosted on GCS. It will automatically be downloaded to your\n",
      "local data directory. If you'd instead prefer to read directly from our public\n",
      "GCS bucket (recommended if you're running on GCP), you can instead pass\n",
      "`try_gcs=True` to `tfds.load` or set `data_dir=gs://tfds-data/datasets`.\n",
      "\n"
     ]
    },
    {
     "name": "stdout",
     "output_type": "stream",
     "text": [
      "\u001b[1mDataset mnist downloaded and prepared to /home/lm/tensorflow_datasets/mnist/3.0.1. Subsequent calls will reuse this data.\u001b[0m\n"
     ]
    }
   ],
   "source": [
    "import tensorflow_datasets as tfds\n",
    "tfds.disable_progress_bar()\n",
    "\n",
    "mnist = tfds.load('mnist', split=None)\n",
    "mnist_train = mnist['train']\n",
    "mnist_test = mnist['test']"
   ]
  },
  {
   "cell_type": "markdown",
   "metadata": {},
   "source": [
    "### SPAM-HAM "
   ]
  },
  {
   "cell_type": "code",
   "execution_count": 52,
   "metadata": {},
   "outputs": [
    {
     "name": "stdout",
     "output_type": "stream",
     "text": [
      "Downloading data from http://archive.ics.uci.edu/ml/machine-learning-databases/00228/smsspamcollection.zip\n",
      "204800/203415 [==============================] - 1s 3us/step\n"
     ]
    }
   ],
   "source": [
    "import tensorflow_datasets as tfds\n",
    "tfds.disable_progress_bar()\n",
    "\n",
    "zip_url = 'http://archive.ics.uci.edu/ml/machine-learning-databases/00228/smsspamcollection.zip'\n",
    "path = tf.keras.utils.get_file(zip_url.split(\"/\")[-1], zip_url, extract=True)\n",
    "\n",
    "path = path.replace(\"smsspamcollection.zip\", \"SMSSpamCollection\")\n",
    "\n",
    "def split_text(x):\n",
    "    return tf.strings.split(x, sep='\\t')\n",
    "\n",
    "text_data = (tf.data\n",
    "             .TextLineDataset(path)\n",
    "             .map(split_text)\n",
    "            )"
   ]
  },
  {
   "cell_type": "markdown",
   "metadata": {},
   "source": [
    "### Movie review data"
   ]
  },
  {
   "cell_type": "code",
   "execution_count": 56,
   "metadata": {},
   "outputs": [],
   "source": [
    "import tensorflow_datasets as tfds\n",
    "tfds.disable_progress_bar()\n",
    "\n",
    "movie_data_url = 'http://www.cs.cornell.edu/people/pabo/movie-review-data/rt-polaritydata.tar.gz'\n",
    "path = tf.keras.utils.get_file(movie_data_url.split(\"/\")[-1], movie_data_url, extract=True)\n",
    "\n",
    "path = path.replace('.tar.gz', '')\n",
    "\n",
    "with open('movie_reviews.txt', 'w') as review_file: \n",
    "    for response, filename in enumerate(['/rt-polarity.neg', '/rt-polarity.pos']):\n",
    "        with open(path+filename, 'r', encoding='utf-8', errors='ignore') as movie_file:\n",
    "            for line in movie_file:\n",
    "                review_file.write(str(response) + '\\t' + line.encode('utf-8').decode())\n",
    "                \n",
    "def split_text(x):\n",
    "    return tf.strings.split(x, sep='\\t')\n",
    "\n",
    "movies = (tf.data\n",
    "          .TextLineDataset('movie_reviews.txt')\n",
    "          .map(split_text)\n",
    "         )"
   ]
  },
  {
   "cell_type": "markdown",
   "metadata": {},
   "source": [
    "### CIFAR-10 image data"
   ]
  },
  {
   "cell_type": "code",
   "execution_count": 57,
   "metadata": {},
   "outputs": [
    {
     "name": "stdout",
     "output_type": "stream",
     "text": [
      "\u001b[1mDownloading and preparing dataset cifar10/3.0.2 (download: 162.17 MiB, generated: 132.40 MiB, total: 294.58 MiB) to /home/lm/tensorflow_datasets/cifar10/3.0.2...\u001b[0m\n"
     ]
    },
    {
     "name": "stderr",
     "output_type": "stream",
     "text": [
      "/home/lm/anaconda3/envs/kaggle/lib/python3.6/site-packages/urllib3/connectionpool.py:1004: InsecureRequestWarning: Unverified HTTPS request is being made to host 'www.cs.toronto.edu'. Adding certificate verification is strongly advised. See: https://urllib3.readthedocs.io/en/latest/advanced-usage.html#ssl-warnings\n",
      "  InsecureRequestWarning,\n"
     ]
    },
    {
     "name": "stdout",
     "output_type": "stream",
     "text": [
      "Shuffling and writing examples to /home/lm/tensorflow_datasets/cifar10/3.0.2.incompleteI1KC1D/cifar10-train.tfrecord\n",
      "Shuffling and writing examples to /home/lm/tensorflow_datasets/cifar10/3.0.2.incompleteI1KC1D/cifar10-test.tfrecord\n",
      "\u001b[1mDataset cifar10 downloaded and prepared to /home/lm/tensorflow_datasets/cifar10/3.0.2. Subsequent calls will reuse this data.\u001b[0m\n",
      "tfds.core.DatasetInfo(\n",
      "    name='cifar10',\n",
      "    version=3.0.2,\n",
      "    description='The CIFAR-10 dataset consists of 60000 32x32 colour images in 10 classes, with 6000 images per class. There are 50000 training images and 10000 test images.',\n",
      "    homepage='https://www.cs.toronto.edu/~kriz/cifar.html',\n",
      "    features=FeaturesDict({\n",
      "        'id': Text(shape=(), dtype=tf.string),\n",
      "        'image': Image(shape=(32, 32, 3), dtype=tf.uint8),\n",
      "        'label': ClassLabel(shape=(), dtype=tf.int64, num_classes=10),\n",
      "    }),\n",
      "    total_num_examples=60000,\n",
      "    splits={\n",
      "        'test': 10000,\n",
      "        'train': 50000,\n",
      "    },\n",
      "    supervised_keys=('image', 'label'),\n",
      "    citation=\"\"\"@TECHREPORT{Krizhevsky09learningmultiple,\n",
      "        author = {Alex Krizhevsky},\n",
      "        title = {Learning multiple layers of features from tiny images},\n",
      "        institution = {},\n",
      "        year = {2009}\n",
      "    }\"\"\",\n",
      "    redistribution_info=,\n",
      ")\n",
      "\n"
     ]
    }
   ],
   "source": [
    "import tensorflow_datasets as tfds\n",
    "tfds.disable_progress_bar()\n",
    "\n",
    "ds, info = tfds.load('cifar10', shuffle_files=True, with_info=True)\n",
    "\n",
    "print(info)\n",
    "\n",
    "cifar_train = ds['train']\n",
    "cifar_test = ds['test']"
   ]
  },
  {
   "cell_type": "markdown",
   "metadata": {},
   "source": [
    "### The works of Shakespeare text data"
   ]
  },
  {
   "cell_type": "code",
   "execution_count": 58,
   "metadata": {},
   "outputs": [
    {
     "name": "stdout",
     "output_type": "stream",
     "text": [
      "Downloading data from https://raw.githubusercontent.com/PacktPublishing/TensorFlow-2-Machine-Learning-Cookbook-Third-Edition/master/shakespeare.txt\n",
      "5472256/5465102 [==============================] - 3s 1us/step\n"
     ]
    }
   ],
   "source": [
    "import tensorflow_datasets as tfds\n",
    "tfds.disable_progress_bar()\n",
    "\n",
    "shakespeare_url = 'https://raw.githubusercontent.com/PacktPublishing/TensorFlow-2-Machine-Learning-Cookbook-Third-Edition/master/shakespeare.txt'\n",
    "path = tf.keras.utils.get_file(shakespeare_url.split(\"/\")[-1], shakespeare_url)\n",
    "\n",
    "def split_text(x):\n",
    "    return tf.strings.split(x, sep='\\n')\n",
    "\n",
    "shakespeare_text = (tf.data\n",
    "                    .TextLineDataset(path)\n",
    "                    .map(split_text)\n",
    "                   )"
   ]
  },
  {
   "cell_type": "markdown",
   "metadata": {},
   "source": [
    "### English-German sentence translation data"
   ]
  },
  {
   "cell_type": "code",
   "execution_count": 59,
   "metadata": {},
   "outputs": [],
   "source": [
    "import os\n",
    "import pandas as pd\n",
    "from zipfile import ZipFile\n",
    "from urllib.request import urlopen, Request\n",
    "import tensorflow_datasets as tfds\n",
    "tfds.disable_progress_bar()\n",
    "\n",
    "sentence_url = 'https://www.manythings.org/anki/deu-eng.zip'\n",
    "\n",
    "r = Request(sentence_url, headers={'User-Agent': 'Mozilla/5.0 (X11; U; Linux i686) Gecko/20071127 Firefox/2.0.0.11'})\n",
    "b2 = [z for z in sentence_url.split('/') if '.zip' in z][0] #gets just the '.zip' part of the url\n",
    "\n",
    "with open(b2, \"wb\") as target:\n",
    "    target.write(urlopen(r).read()) #saves to file to disk\n",
    "\n",
    "with ZipFile(b2) as z:\n",
    "    deu = [line.split('\\t')[:2] for line in z.open('deu.txt').read().decode().split('\\n')]\n",
    "\n",
    "os.remove(b2) #removes the zip file\n",
    "\n",
    "# saving to disk prepared en-de sentence file\n",
    "with open(\"deu.txt\", \"wb\") as deu_file:\n",
    "    for line in deu:\n",
    "        data = \",\".join(line)+'\\n'\n",
    "        deu_file.write(data.encode('utf-8'))\n",
    "        \n",
    "def split_text(x):\n",
    "    return tf.strings.split(x, sep=',')\n",
    "\n",
    "text_data = (tf.data\n",
    "             .TextLineDataset(\"deu.txt\")\n",
    "             .map(split_text)\n",
    "            )"
   ]
  }
 ],
 "metadata": {
  "kernelspec": {
   "display_name": "Python 3",
   "language": "python",
   "name": "python3"
  },
  "language_info": {
   "codemirror_mode": {
    "name": "ipython",
    "version": 3
   },
   "file_extension": ".py",
   "mimetype": "text/x-python",
   "name": "python",
   "nbconvert_exporter": "python",
   "pygments_lexer": "ipython3",
   "version": "3.7.0"
  }
 },
 "nbformat": 4,
 "nbformat_minor": 4
}
